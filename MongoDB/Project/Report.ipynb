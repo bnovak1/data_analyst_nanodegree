{
 "cells": [
  {
   "cell_type": "markdown",
   "metadata": {},
   "source": [
    "# Data Analyst Nanodegree OpenStreetMap Project\n",
    "Author: Brian Novak"
   ]
  },
  {
   "cell_type": "markdown",
   "metadata": {},
   "source": [
    "## Map Area\n",
    "Around Baton Rouge, LA, United States."
   ]
  },
  {
   "cell_type": "markdown",
   "metadata": {},
   "source": [
    "## Problems Encountered in the Map\n",
    "\n",
    "### Find types of tags, particularly ones with problematic characters."
   ]
  },
  {
   "cell_type": "code",
   "execution_count": 1,
   "metadata": {
    "collapsed": false,
    "run_control": {
     "read_only": false
    }
   },
   "outputs": [
    {
     "name": "stdout",
     "output_type": "stream",
     "text": [
      "{'lower': 72385, 'lower_colon': 117496, 'other': 11424, 'problemchars': 0}\n",
      "\n",
      "0 tags were found with problematic characters\n"
     ]
    }
   ],
   "source": [
    "run tag_types.py"
   ]
  },
  {
   "cell_type": "markdown",
   "metadata": {},
   "source": [
    "### Street Types\n",
    "\n",
    "The code from lesson 6 of the course was used with some small modifications. This checks for abbreviations in the last word of the street names which is usually the type of street. Some additions were made to the expected street types and the mapping dictionary. When the last word in a street name could be represented as an integer, then that street name was ignored. This ignored 'Highway 16', 'Highway 42', and 'Highway 44' in this data set."
   ]
  },
  {
   "cell_type": "code",
   "execution_count": 2,
   "metadata": {
    "collapsed": false,
    "run_control": {
     "read_only": false
    }
   },
   "outputs": [
    {
     "name": "stdout",
     "output_type": "stream",
     "text": [
      "There are 95 streets in the data set\n",
      "\n",
      "Street names with abbreviated types:\n",
      "\n",
      "Essen Ln => Essen Lane\n",
      "Equity Dr => Equity Drive\n",
      "Burbank Dr => Burbank Drive\n",
      "Juban Rd => Juban Road\n",
      "Jefferson Hwy => Jefferson Highway\n",
      "East Parker Blvd => East Parker Boulevard\n",
      "O'Donovan Blvd => O'Donovan Boulevard\n",
      "Hazelwood dr => Hazelwood Drive\n",
      "\n",
      "8 street name abbreviations were found\n"
     ]
    }
   ],
   "source": [
    "run improving_street_names.py"
   ]
  },
  {
   "cell_type": "markdown",
   "metadata": {},
   "source": [
    "### City Names\n",
    "\n",
    "Since there were only a few cities in the data set, the names were just checked manually and none were found to be spelled incorrectly or abbreviated. Of course if analysis of multiple data sets or larger areas were to be done, it would be worth comparing the city names to a database such as GeoNames (<http://download.geonames.org/export/dump/cities1000.zip>). The cities in the data set were:"
   ]
  },
  {
   "cell_type": "code",
   "execution_count": 3,
   "metadata": {
    "collapsed": false,
    "run_control": {
     "read_only": false
    }
   },
   "outputs": [
    {
     "name": "stdout",
     "output_type": "stream",
     "text": [
      "Cities included in the data:\n",
      "\n",
      "Gonzales\n",
      "Baton Rouge\n",
      "Denham Springs\n",
      "Central\n",
      "Walker\n",
      "Slaughter\n",
      "Watson\n",
      "Brusly\n",
      "Port Allen\n"
     ]
    }
   ],
   "source": [
    "run find_city_names.py"
   ]
  },
  {
   "cell_type": "markdown",
   "metadata": {},
   "source": [
    "### Zip Codes\n",
    "\n",
    "The zip codes in the addr:postcode fields were checked against the GeoNames zip code data (<http://download.geonames.org/export/zip/US.zip>), to make sure they were consistent with the city name. No problems were found in the OSM data, but I noticed that the city of Central was missing from the GeoNames data. Central officially became a separate city from Baton Rouge in 2005, but the zip codes in that area remained as 70837. This was not a problem for checking the OSM data since there was only one entry for Central in it and it did not contain the addr:postcode field. Central was also added to the GeoNames data file."
   ]
  },
  {
   "cell_type": "code",
   "execution_count": 4,
   "metadata": {
    "collapsed": false,
    "run_control": {
     "read_only": false
    }
   },
   "outputs": [
    {
     "name": "stdout",
     "output_type": "stream",
     "text": [
      "No problems with zip codes\n"
     ]
    }
   ],
   "source": [
    "run check_zip_codes.py"
   ]
  },
  {
   "cell_type": "markdown",
   "metadata": {},
   "source": [
    "### County (parish) id numbers\n",
    "\n",
    "The GeoNames data also contains the names and id numbers of the counties or parishes in the case of Louisiana and an id number for them. Since the OSM records containing city names sometimes also contain the county id number, the county id numbers in the OSM records were checked to make sure they were consistent with the city names. Records containing both a city name and an id number for the county seem to be rare; there were only two in this data set and both were consistent."
   ]
  },
  {
   "cell_type": "code",
   "execution_count": 5,
   "metadata": {
    "collapsed": false,
    "run_control": {
     "read_only": false
    }
   },
   "outputs": [
    {
     "name": "stdout",
     "output_type": "stream",
     "text": [
      "No problems with county id numbers\n"
     ]
    }
   ],
   "source": [
    "run check_county_ids.py"
   ]
  },
  {
   "cell_type": "markdown",
   "metadata": {},
   "source": [
    "### State name abbreviations\n",
    "\n",
    "Although the state name abbreviations in the addr:state tag are unlikely to be incorrect, it is also easy to do a quick check. Instead of using python, grep can be used to pull out the lines to check and awk can be used to pull out the state abbreviations from the lines. All of the state name abbreviations are correct in the addr:state tags if the case is not considered. There are 4 entries where the second letter is 'a' instead of 'A'"
   ]
  },
  {
   "cell_type": "code",
   "execution_count": 6,
   "metadata": {
    "collapsed": false,
    "run_control": {
     "read_only": false
    }
   },
   "outputs": [
    {
     "name": "stdout",
     "output_type": "stream",
     "text": [
      "\"La\"\n",
      "\"La\"\n",
      "\"La\"\n",
      "\"La\"\n"
     ]
    }
   ],
   "source": [
    "%%bash\n",
    "\n",
    "cat Baton_Rouge.osm | grep \"addr:state\" | awk '{print $3}' | \\\n",
    "awk -F= '{print $2}' | awk -F/ '{print $1}' | awk '$1 !~ \"LA\"'"
   ]
  },
  {
   "cell_type": "markdown",
   "metadata": {},
   "source": [
    "### Consistency of Street Address with City and Latitude and Longitude \n",
    "\n",
    "Although the zip codes and cities are consistent in the OSM data, there is no guarantee that the street address is not actually in a different city with a different zip code. Although the data set was chosen by location, there is still a possibility that the latitude and longitude are inside the region of interest, but still not consistent with the street address. These things were not checked, but could be checked using reverse geocoding\n",
    "(http://www.geonames.org/export/web-services.html#findNearbyPlaceName, https://developers.google.com/maps/documentation/geocoding/intro?csw=1#ReverseGeocoding)."
   ]
  },
  {
   "cell_type": "markdown",
   "metadata": {},
   "source": [
    "### Apply fixes to street names and convert to JSON to be read into MongoDB\n",
    "\n",
    "The code from the course was just used on my data set since no additional changes beyond street names were applied."
   ]
  },
  {
   "cell_type": "code",
   "execution_count": 7,
   "metadata": {
    "collapsed": false,
    "run_control": {
     "read_only": false
    }
   },
   "outputs": [],
   "source": [
    "run preparing_for_database.py"
   ]
  },
  {
   "cell_type": "markdown",
   "metadata": {},
   "source": [
    "### Import data into MongoDB using mongoimport\n",
    "\n",
    "> mongod &\n",
    "\n",
    "> mongoimport --file Baton_Rouge.osm.json -d OSM -c Baton_Rouge_LA_US_area"
   ]
  },
  {
   "cell_type": "markdown",
   "metadata": {},
   "source": [
    "## Data Overview"
   ]
  },
  {
   "cell_type": "markdown",
   "metadata": {},
   "source": [
    "### Size of original XML data set in MB"
   ]
  },
  {
   "cell_type": "code",
   "execution_count": 1,
   "metadata": {
    "collapsed": false,
    "run_control": {
     "read_only": false
    }
   },
   "outputs": [
    {
     "name": "stdout",
     "output_type": "stream",
     "text": [
      "54M\n"
     ]
    }
   ],
   "source": [
    "%%bash\n",
    "ls -lh Baton_Rouge.osm | awk '{print $5}'"
   ]
  },
  {
   "cell_type": "markdown",
   "metadata": {},
   "source": [
    "### Total number of entries (mongo shell)"
   ]
  },
  {
   "cell_type": "markdown",
   "metadata": {},
   "source": [
    "> db.Baton_Rouge_LA_US_area.count()\n",
    "\n",
    ">> 260134"
   ]
  },
  {
   "cell_type": "markdown",
   "metadata": {},
   "source": [
    "### Number of entries by city for entries with a city name (mongo shell)"
   ]
  },
  {
   "cell_type": "markdown",
   "metadata": {},
   "source": [
    "> db.Baton_Rouge_LA_US_area.aggregate( [ { \\$match: {\"address.city\": { \\$exists: true } } }, { \\$group: { _id: \"\\$address.city\", count: { \\$sum: 1} } }, { \\$sort: { \"count\": -1 } } ] )\n",
    "\n",
    ">> { \"_id\" : \"Baton Rouge\", \"count\" : 61 }\n",
    "\n",
    ">> { \"_id\" : \"Denham Springs\", \"count\" : 10 }\n",
    "\n",
    ">> { \"_id\" : \"Gonzales\", \"count\" : 4 }\n",
    "\n",
    ">> { \"_id\" : \"Walker\", \"count\" : 3 }\n",
    "\n",
    ">> { \"_id\" : \"Port Allen\", \"count\" : 2 }\n",
    "\n",
    ">> { \"_id\" : \"Brusly\", \"count\" : 1 }\n",
    "\n",
    ">> { \"_id\" : \"Watson\", \"count\" : 1 }\n",
    "\n",
    ">> { \"_id\" : \"Slaughter\", \"count\" : 1 }\n",
    "\n",
    ">> { \"_id\" : \"Central\", \"count\" : 1 }\n",
    "\n",
    "\n",
    "Most of the entries do not contain a city name."
   ]
  },
  {
   "cell_type": "markdown",
   "metadata": {},
   "source": [
    "### Number of nodes (mongo shell)"
   ]
  },
  {
   "cell_type": "markdown",
   "metadata": {},
   "source": [
    "                                                \n",
    "> db.Baton_Rouge_LA_US_area.find({\"type\":\"node\"}).count()\n",
    "\n",
    ">> 236790"
   ]
  },
  {
   "cell_type": "markdown",
   "metadata": {},
   "source": [
    "### Number of ways (mongo shell)"
   ]
  },
  {
   "cell_type": "markdown",
   "metadata": {},
   "source": [
    "> db.Baton_Rouge_LA_US_area.find({\"type\":\"way\"}).count()\n",
    "\n",
    ">> 23339"
   ]
  },
  {
   "cell_type": "markdown",
   "metadata": {},
   "source": [
    "### Number of unique users (mongo shell)"
   ]
  },
  {
   "cell_type": "markdown",
   "metadata": {},
   "source": [
    "> db.Baton_Rouge_LA_US_area.distinct(\"created.user\").length\n",
    "\n",
    ">> 364"
   ]
  },
  {
   "cell_type": "markdown",
   "metadata": {},
   "source": [
    "### Counts for top 10 contributing users (mongo shell)"
   ]
  },
  {
   "cell_type": "markdown",
   "metadata": {},
   "source": [
    "> db.Baton_Rouge_LA_US_area.aggregate( [ { \\$group: { _id: \"\\$created.user\", count: { \\$sum: 1} } }, { \\$sort: { \"count\": -1 } }, { \\$limit: 10 } ] )\n",
    "\n",
    ">> { \"_id\" : \"woodpeck_fixbot\", \"count\" : 57387 }\n",
    "\n",
    ">> { \"_id\" : \"ELadner\", \"count\" : 29449 }\n",
    "\n",
    ">> { \"_id\" : \"Matt Toups\", \"count\" : 16680 }\n",
    "\n",
    ">> { \"_id\" : \"Kenneth Pardue\", \"count\" : 14962 }\n",
    "\n",
    ">> { \"_id\" : \"TIGERcnl\", \"count\" : 12322 }\n",
    "\n",
    ">> { \"_id\" : \"ediyes\", \"count\" : 8974 }\n",
    "\n",
    ">> { \"_id\" : \"bot-mode\", \"count\" : 8820 }\n",
    "\n",
    ">> { \"_id\" : \"25or6to4\", \"count\" : 8019 }\n",
    "\n",
    ">> { \"_id\" : \"dufekin\", \"count\" : 7353 }\n",
    "\n",
    ">>{ \"_id\" : \"42429\", \"count\" : 7319 }\n"
   ]
  },
  {
   "cell_type": "markdown",
   "metadata": {},
   "source": [
    "### Plot and table of number of users with a given number of entries or fewer as a function of number of entries (pymongo)                   "
   ]
  },
  {
   "cell_type": "code",
   "execution_count": 6,
   "metadata": {
    "collapsed": false,
    "run_control": {
     "read_only": false
    }
   },
   "outputs": [
    {
     "name": "stdout",
     "output_type": "stream",
     "text": [
      "  # Entries    # Users    % Users with # Entries or Fewer\n",
      "-----------  ---------  ---------------------------------\n",
      "          3         60                            16.4835\n",
      "          6         25                            23.3516\n",
      "          9         18                            28.2967\n",
      "         12          9                            30.7692\n",
      "         15          5                            32.1429\n",
      "         18          5                            33.5165\n",
      "         21          9                            35.989\n",
      "         24          5                            37.3626\n",
      "         27          9                            39.8352\n",
      "         30          3                            40.6593\n",
      "         33          4                            41.7582\n",
      "         36          2                            42.3077\n",
      "         39          6                            43.956\n",
      "         42          3                            44.7802\n",
      "         45          4                            45.8791\n",
      "         48          4                            46.978\n",
      "         51          5                            48.3516\n",
      "         54          4                            49.4505\n",
      "         57          4                            50.5495\n",
      "         60          1                            50.8242\n",
      "         63          3                            51.6484\n"
     ]
    },
    {
     "data": {
      "image/png": "[encoded data removed]",
      "text/plain": [
       "<IPython.core.display.Image object>"
      ]
     },
     "execution_count": 6,
     "metadata": {
      "image/png": {
       "width": 500
      }
     },
     "output_type": "execute_result"
    }
   ],
   "source": [
    "%run entry_count_hist.py\n",
    "\n",
    "import IPython.display as disp\n",
    "disp.Image('entry_count.png', width=500)"
   ]
  },
  {
   "cell_type": "markdown",
   "metadata": {},
   "source": [
    "There are 60 users with only one entry. About 28% of users have 3 or fewer entries, and about 50% of users have 19 or fewer entries."
   ]
  },
  {
   "cell_type": "markdown",
   "metadata": {},
   "source": [
    "## Additional Ideas or Observations"
   ]
  },
  {
   "cell_type": "markdown",
   "metadata": {},
   "source": [
    "### Users with \"bot\" or \"aut\" in their names (mongo shell)"
   ]
  },
  {
   "cell_type": "markdown",
   "metadata": {},
   "source": [
    "It was noticed that 2 of the 10 users with the largest number of posts had \"bot\" in their names. These are likely automated entries or fixes. Therefore a search for users with \"bot\" or \"aut\" (short for \"automatic\" or \"automated\") was performed.\n",
    "\n",
    "> db.Baton_Rouge_LA_US_area.aggregate( [ { \\$match: { \"created.user\": /.\\*bot.\\*/ } }, { \\$group: { _id: \"\\$created.user\", count: { \\$sum: 1} } }, { \\$sort: { \"count\": -1 } } ] )\n",
    "\n",
    ">> { \"_id\" : \"woodpeck_fixbot\", \"count\" : 57387 }\n",
    "\n",
    ">> { \"_id\" : \"bot-mode\", \"count\" : 8820 }\n",
    "\n",
    ">>{ \"_id\" : \"xybot\", \"count\" : 18 }\n",
    "\n",
    "> db.Baton_Rouge_LA_US_area.aggregate( [ { \\$match: { \"created.user\": /.\\*aut.\\*/ } }, { \\$group: { _id: \"\\$created.user\", count: { \\$sum: 1} } }, { \\$sort: { \"count\": -1 } } ] )\n",
    "\n",
    "> db.Baton_Rouge_LA_US_area.aggregate( [ { \\$match: { \"created.user\": /.\\*bot.\\*/ } }, { \\$group: { _id: 1, count: { \\$sum: 1} } } ] )\n",
    "\n",
    ">> { \"_id\" : 1, \"count\" : 66225 }\n",
    "\n",
    "There were 3 users with \"bot\" in their names, and 0 with \"aut\" in their names. 66225 of 260134 entries can be contributed to users with \"bot\" in their names. Therefore it is likely that at least 25% of the entries in the data are automated entries or fixes."
   ]
  },
  {
   "cell_type": "markdown",
   "metadata": {},
   "source": [
    "### Correct street names at the point of entry"
   ]
  },
  {
   "cell_type": "markdown",
   "metadata": {},
   "source": [
    "It seems that having to make corrections to get consistent street names could be avoided if OSM developed some standards for different countries or regions for how streets should be named. Then names could be checked at the point of entry and users might be asked if the correction is right or the changes could be automatic, although automatic changes would still allow for some errors in cases where the correction is not right."
   ]
  },
  {
   "cell_type": "markdown",
   "metadata": {},
   "source": [
    "### Use OSM data analyzed at different times and regions to indicate changes in economic health of an area, population change, etc."
   ]
  },
  {
   "cell_type": "markdown",
   "metadata": {},
   "source": [
    "OSM data might be trained against other data sets containing estimators of economic health in a region, population in a region, etc. Then the resulting models might be used on a city or region or country divided into pieces at different times to give a rough spatial and temporal view of changes in economic health, population change, etc. The advantage of this would be that the data is totally free to collect. The disadvantages would be that the time lag in the data might be longer than for other data sources and the accuracy may not be as high. \n",
    "\n",
    "A measure of population might involve the number of residences, number of apartments, number of total buildings, area occupied by residences, area occupied by apartments, area occupied by all buildings, number of nodes per area (node density), or area with a certain minimum node density. A problem with many of these quantities is that they can change not only because of changing population, but also due to more data being added on existing structures independent of population. Thus, this might only work for areas where there is already a lot of data and most new data added is for new structures.\n",
    "\n",
    "As an oversimplified example, let's divide the current data set into four pieces and get the total number of buildings in each quadrant. Estimating areas for buildings based on their node references and getting node densities would be more complicated."
   ]
  },
  {
   "cell_type": "code",
   "execution_count": 8,
   "metadata": {
    "collapsed": false
   },
   "outputs": [],
   "source": [
    "%run building_count.py"
   ]
  },
  {
   "cell_type": "markdown",
   "metadata": {},
   "source": [
    "The data set extends from 29.9078&deg; to 31.5403&deg; latitude and from 91.7301&deg; to -89.3449&deg; longitude. The building counts are shown below. Most of the buildings are in one quadrant while two quadrants have no buildings."
   ]
  },
  {
   "cell_type": "code",
   "execution_count": 9,
   "metadata": {
    "collapsed": false
   },
   "outputs": [
    {
     "data": {
      "text/html": [
       "<div>\n",
       "<table border=\"1\" class=\"dataframe\">\n",
       "  <thead>\n",
       "    <tr style=\"text-align: right;\">\n",
       "      <th></th>\n",
       "      <th>lat min</th>\n",
       "      <th>lat max</th>\n",
       "      <th>long min</th>\n",
       "      <th>long max</th>\n",
       "      <th>bldg count</th>\n",
       "    </tr>\n",
       "  </thead>\n",
       "  <tbody>\n",
       "    <tr>\n",
       "      <th>0</th>\n",
       "      <td>29.91</td>\n",
       "      <td>30.72</td>\n",
       "      <td>-91.73</td>\n",
       "      <td>-90.54</td>\n",
       "      <td>4056.0</td>\n",
       "    </tr>\n",
       "    <tr>\n",
       "      <th>1</th>\n",
       "      <td>29.91</td>\n",
       "      <td>30.72</td>\n",
       "      <td>-90.54</td>\n",
       "      <td>-89.34</td>\n",
       "      <td>0.0</td>\n",
       "    </tr>\n",
       "    <tr>\n",
       "      <th>2</th>\n",
       "      <td>30.72</td>\n",
       "      <td>31.54</td>\n",
       "      <td>-91.73</td>\n",
       "      <td>-90.54</td>\n",
       "      <td>6.0</td>\n",
       "    </tr>\n",
       "    <tr>\n",
       "      <th>3</th>\n",
       "      <td>30.72</td>\n",
       "      <td>31.54</td>\n",
       "      <td>-90.54</td>\n",
       "      <td>-89.34</td>\n",
       "      <td>0.0</td>\n",
       "    </tr>\n",
       "  </tbody>\n",
       "</table>\n",
       "</div>"
      ],
      "text/plain": [
       "   lat min  lat max  long min  long max  bldg count\n",
       "0    29.91    30.72    -91.73    -90.54      4056.0\n",
       "1    29.91    30.72    -90.54    -89.34         0.0\n",
       "2    30.72    31.54    -91.73    -90.54         6.0\n",
       "3    30.72    31.54    -90.54    -89.34         0.0"
      ]
     },
     "execution_count": 9,
     "metadata": {},
     "output_type": "execute_result"
    }
   ],
   "source": [
    "pd.DataFrame(np.column_stack((np.round(boundaries, 2), building_count)), \n",
    "             columns=['lat min', 'lat max', \n",
    "                      'long min', 'long max', 'bldg count'])"
   ]
  },
  {
   "cell_type": "markdown",
   "metadata": {},
   "source": [
    "Looking at the building counts by type reveals that the majority of the buildings are uncategorized; they just have the type \"yes\". Therefore, just using houses or apartments would not be good at least for this area. The \"other\" type below includes all types except \"house\", \"apartments\", and \"yes\"."
   ]
  },
  {
   "cell_type": "code",
   "execution_count": 81,
   "metadata": {
    "collapsed": false
   },
   "outputs": [
    {
     "data": {
      "text/html": [
       "<div>\n",
       "<table border=\"1\" class=\"dataframe\">\n",
       "  <thead>\n",
       "    <tr style=\"text-align: right;\">\n",
       "      <th></th>\n",
       "      <th>count</th>\n",
       "    </tr>\n",
       "  </thead>\n",
       "  <tbody>\n",
       "    <tr>\n",
       "      <th>house</th>\n",
       "      <td>765.0</td>\n",
       "    </tr>\n",
       "    <tr>\n",
       "      <th>yes</th>\n",
       "      <td>2634.0</td>\n",
       "    </tr>\n",
       "    <tr>\n",
       "      <th>other</th>\n",
       "      <td>567.0</td>\n",
       "    </tr>\n",
       "    <tr>\n",
       "      <th>apartments</th>\n",
       "      <td>96.0</td>\n",
       "    </tr>\n",
       "  </tbody>\n",
       "</table>\n",
       "</div>"
      ],
      "text/plain": [
       "             count\n",
       "house        765.0\n",
       "yes         2634.0\n",
       "other        567.0\n",
       "apartments    96.0"
      ]
     },
     "execution_count": 81,
     "metadata": {},
     "output_type": "execute_result"
    }
   ],
   "source": [
    "building_type_counts_df = pd.DataFrame.from_dict(building_type_counts, \n",
    "                                                 orient='index')\n",
    "building_type_counts_df.columns = ['count']\n",
    "\n",
    "other_count = np.sum(building_count) - \\\n",
    "    np.sum(building_type_counts_df.loc[{'apartments', 'house', 'yes'}])\n",
    "other_count = pd.DataFrame.from_dict({'other': other_count['count']}, \n",
    "                                     orient='index')\n",
    "other_count.columns = ['count']\n",
    "\n",
    "building_type_counts_df.append(other_count).loc[{'apartments', 'house', \n",
    "                                                 'yes', 'other'}]"
   ]
  }
 ],
 "metadata": {
  "kernelspec": {
   "display_name": "Python [Root]",
   "language": "python",
   "name": "Python [Root]"
  },
  "language_info": {
   "codemirror_mode": {
    "name": "ipython",
    "version": 2
   },
   "file_extension": ".py",
   "mimetype": "text/x-python",
   "name": "python",
   "nbconvert_exporter": "python",
   "pygments_lexer": "ipython2",
   "version": "2.7.12"
  }
 },
 "nbformat": 4,
 "nbformat_minor": 0
}
